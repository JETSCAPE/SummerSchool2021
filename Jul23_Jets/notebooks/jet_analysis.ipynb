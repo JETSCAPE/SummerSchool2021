{
 "cells": [
  {
   "cell_type": "markdown",
   "source": [
    "# Jet Analysis"
   ],
   "metadata": {}
  },
  {
   "cell_type": "markdown",
   "source": [
    "## Load Files"
   ],
   "metadata": {}
  },
  {
   "cell_type": "code",
   "execution_count": 20,
   "source": [
    "# preperations\n",
    "import numpy as np\n",
    "import matplotlib.pyplot as plt\n",
    "\n",
    "# define plot style\n",
    "width = 0.05\n",
    "plotMarkerSize = 8\n",
    "labelfontsize = 15\n",
    "import matplotlib as mpl\n",
    "mpl.rcParams['figure.figsize'] = [6., 4.5]\n",
    "mpl.rcParams['lines.linewidth'] = 2\n",
    "mpl.rcParams['xtick.top'] = True\n",
    "mpl.rcParams['xtick.labelsize'] = 15\n",
    "mpl.rcParams['xtick.major.width'] = 1.0\n",
    "mpl.rcParams['xtick.minor.width'] = 0.8\n",
    "mpl.rcParams['xtick.minor.visible'] = True\n",
    "mpl.rcParams['xtick.direction'] = \"in\"\n",
    "mpl.rcParams['ytick.right'] = True\n",
    "mpl.rcParams['ytick.labelsize'] = 15\n",
    "mpl.rcParams['ytick.major.width'] = 1.0\n",
    "mpl.rcParams['ytick.minor.width'] = 0.8\n",
    "mpl.rcParams['ytick.minor.visible'] = True\n",
    "mpl.rcParams['ytick.direction'] = \"in\"\n",
    "mpl.rcParams['legend.fontsize'] = 15\n",
    "mpl.rcParams['legend.numpoints'] = 1\n",
    "mpl.rcParams['font.size'] = 15\n",
    "mpl.rcParams['savefig.format'] = \"pdf\""
   ],
   "outputs": [],
   "metadata": {}
  },
  {
   "cell_type": "code",
   "execution_count": 21,
   "source": [
    "# Set File Paths\n",
    "file_pp = '../data/jet_pp.dat'\n",
    "file_pbpb = '../data/jet_pbpb.dat'\n",
    "\n",
    "# Load files\n",
    "data_pp = np.loadtxt(file_pp, delimiter=',')\n",
    "data_pbpb = np.loadtxt(file_pbpb, delimiter=',')\n",
    "\n",
    "\n",
    "i_pp = data_pp[:,0] \n",
    "i_pbpb = data_pbpb[:,0] \n",
    "\n",
    "jet_id_pp = np.where(i_pp < 0.1)\n",
    "jet_id_pbpb = np.where(i_pbpb < 0.1)\n",
    "\n",
    "# Extract jets\n",
    "jets_pp = data_pp[jet_id_pp]\n",
    "jets_pbpb = data_pbpb[jet_id_pbpb]\n",
    "\n",
    "# Extract associated charged particles for pp\n",
    "assoc_pp= []\n",
    "for i in range(len(jet_id_pp[0])-1):\n",
    "  chunck = data_pp[jet_id_pp[0][i]+1:jet_id_pp[0][i+1]]\n",
    "  assoc_pp.append(chunck)\n",
    "chunck = data_pp[jet_id_pp[0][-1]+1:]\n",
    "assoc_pp.append(chunck)\n",
    "\n",
    "# Extract associated charged particles for pbpb\n",
    "assoc_pbpb= []\n",
    "for i in range(len(jet_id_pbpb[0])-1):\n",
    "  chunck = data_pbpb[jet_id_pbpb[0][i]+1:jet_id_pbpb[0][i+1]]\n",
    "  assoc_pbpb.append(chunck)\n",
    "chunck = data_pbpb[jet_id_pbpb[0][-1]+1:]\n",
    "assoc_pbpb.append(chunck)\n"
   ],
   "outputs": [
    {
     "output_type": "stream",
     "name": "stdout",
     "text": [
      "119 119\n",
      "79 79\n"
     ]
    }
   ],
   "metadata": {}
  },
  {
   "cell_type": "markdown",
   "source": [
    "## Jet Spectrum"
   ],
   "metadata": {}
  },
  {
   "cell_type": "code",
   "execution_count": 35,
   "source": [
    "# Prepare arrays of Jet-pT\n",
    "jet_pt_pp_in = jets_pp[:,1]\n",
    "jet_pt_pbpb_in = jets_pbpb[:,1]\n",
    "\n",
    "# Fill Histogram\n",
    "n_pp, pt = np.histogram(jet_pt_pp_in, bins=np.linspace(100, 150, 7) )\n",
    "n_pbpb, pt = np.histogram(jet_pt_pbpb_in, bins=np.linspace(100, 150, 7) )\n",
    "\n",
    "# Statistical Errors\n",
    "err_n_pp = np.sqrt(n_pp)\n",
    "err_n_pbpb = np.sqrt(n_pbpb)\n",
    "\n",
    "# bin width\n",
    "dpt = (pt[1:]-pt[:-1])\n",
    "# bin center\n",
    "pt = pt[0:-1] + 0.5*dpt\n",
    "\n",
    "# Jet Spectrum\n",
    "dn_dpt_pp = n_pp/dpt\n",
    "dn_dpt_pbpb = n_pbpb/dpt\n",
    "\n",
    "# Errors \n",
    "err_dn_dpt_pp = err_n_pp/dpt\n",
    "err_dn_dpt_pbpb = err_n_pbpb/dpt\n",
    "\n",
    "# Generate Plots\n",
    "fig = plt.figure()\n",
    "\n",
    "plt.errorbar(pt, dn_dpt_pp, fmt='o', label=\"pp\",\n",
    "             xerr=0.5*dpt, yerr=err_dn_dpt_pp, color='black')\n",
    "\n",
    "plt.errorbar(pt, dn_dpt_pbpb, fmt='o', label=\"PbPb(30-40%)\",\n",
    "             xerr=0.5*dpt, yerr=err_dn_dpt_pbpb, color='red')\n",
    "\n",
    "#axes setting\n",
    "plt.yscale('log')\n",
    "plt.legend(loc=0)\n",
    "plt.xlabel(r\"$p^{\\mathrm{jet}}_{\\mathrm{T}}$ [GeV]\")\n",
    "plt.ylabel(r\"$dN_{\\mathrm{jet}}/dp^{\\mathrm{jer}}_{\\mathrm{T}}$\")\n",
    "plt.xlim(100,150)\n",
    "y_min = (dn_dpt_pbpb[-1]-err_dn_dpt_pbpb[-1])*0.8\n",
    "y_max = (dn_dpt_pp[0]+err_dn_dpt_pp[0])*2.0\n",
    "plt.ylim(y_min,y_max)\n",
    "plt.text(101,y_min*1.2, '5.02 TeV')\n",
    "\n",
    "# save plot to the Desktop\n",
    "plt.tight_layout()\n",
    "plt.savefig('n_jet')"
   ],
   "outputs": [
    {
     "output_type": "display_data",
     "data": {
      "text/plain": [
       "<Figure size 432x324 with 1 Axes>"
      ],
      "image/png": "[encoded data removed]"
     },
     "metadata": {
      "needs_background": "light"
     }
    }
   ],
   "metadata": {}
  },
  {
   "cell_type": "markdown",
   "source": [
    "## Jet-$R_{\\mathrm{AA}}$"
   ],
   "metadata": {}
  },
  {
   "cell_type": "code",
   "execution_count": 36,
   "source": [
    "# Generate Plots\n",
    "fig = plt.figure()\n",
    "\n",
    "# Calculate RAA and error\n",
    "raa =  dn_dpt_pbpb/dn_dpt_pp\n",
    "error_raa = np.sqrt( (err_dn_dpt_pbpb/dn_dpt_pp)*(err_dn_dpt_pbpb/dn_dpt_pp) + (err_dn_dpt_pp*dn_dpt_pbpb/dn_dpt_pp/dn_dpt_pp) * (err_dn_dpt_pp*dn_dpt_pbpb/dn_dpt_pp/dn_dpt_pp) )\n",
    "\n",
    "plt.errorbar(pt, raa, fmt='o', label=\"PbPb(30-40%)/pp\",\n",
    "             xerr=0.5*dpt, yerr=error_raa, color='red')\n",
    "\n",
    "\n",
    "#axes setting\n",
    "plt.legend(loc=0)\n",
    "plt.xlabel(r\"$p^{\\mathrm{jet}}_{\\mathrm{T}}$ [GeV]\")\n",
    "plt.ylabel(r\"$R^{\\mathrm{jet}}_{\\mathrm{AA}}$\")\n",
    "plt.xlim(100,150)\n",
    "plt.ylim(0.0,1.2)\n",
    "plt.legend(loc=0)\n",
    "plt.text(101,1.07, '5.02 TeV')\n",
    "plt.axhline(1, color = \"black\", linestyle=\"dashed\", linewidth=0.8) \n",
    "\n",
    "# save plot to the Desktop\n",
    "plt.tight_layout()\n",
    "plt.savefig('raa')"
   ],
   "outputs": [
    {
     "output_type": "display_data",
     "data": {
      "text/plain": [
       "<Figure size 432x324 with 1 Axes>"
      ],
      "image/png": "[encoded data removed]"
     },
     "metadata": {
      "needs_background": "light"
     }
    }
   ],
   "metadata": {}
  },
  {
   "cell_type": "markdown",
   "source": [
    "## Jet Fragmentation Function"
   ],
   "metadata": {}
  },
  {
   "cell_type": "markdown",
   "source": [],
   "metadata": {}
  }
 ],
 "metadata": {
  "kernelspec": {
   "display_name": "Python 3",
   "language": "python",
   "name": "python3"
  },
  "language_info": {
   "codemirror_mode": {
    "name": "ipython",
    "version": 3
   },
   "file_extension": ".py",
   "mimetype": "text/x-python",
   "name": "python",
   "nbconvert_exporter": "python",
   "pygments_lexer": "ipython3",
   "version": "3.8.8"
  }
 },
 "nbformat": 4,
 "nbformat_minor": 5
}